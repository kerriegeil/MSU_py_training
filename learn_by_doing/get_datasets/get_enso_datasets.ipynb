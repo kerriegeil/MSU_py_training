{
 "cells": [
  {
   "cell_type": "code",
   "execution_count": 1,
   "metadata": {},
   "outputs": [],
   "source": [
    "from urllib.request import urlretrieve\n",
    "import subprocess\n",
    "import gzip\n",
    "import shutil\n",
    "import os"
   ]
  },
  {
   "cell_type": "code",
   "execution_count": 2,
   "metadata": {},
   "outputs": [],
   "source": [
    "# edit to where you want to save the data file\n",
    "data_dir = r'C://Users/kerrie.WIN/Documents/code/MSU_py_training/learn_by_doing/ENSO/'"
   ]
  },
  {
   "cell_type": "code",
   "execution_count": null,
   "metadata": {},
   "outputs": [],
   "source": [
    "# NOAA Nino 3.4 Index data\n",
    "\n",
    "# url to the data\n",
    "url='https://psl.noaa.gov/gcos_wgsp/Timeseries/Data/nino34.long.anom.data'\n",
    "\n",
    "# file name to save the data to\n",
    "filename=data_dir+'nino34_anomalies_monthly_NOAA.txt'\n",
    "\n",
    "# download and save data\n",
    "urlretrieve(url, filename)"
   ]
  },
  {
   "cell_type": "code",
   "execution_count": null,
   "metadata": {},
   "outputs": [],
   "source": [
    "# Berkeley Earth tavg global gridded data\n",
    "\n",
    "# url to the data\n",
    "url='https://berkeley-earth-temperature.s3.us-west-1.amazonaws.com/Global/Gridded/Complete_TAVG_LatLong1.nc'\n",
    "\n",
    "# file name to save the data to\n",
    "filename=data_dir+'tavg_monthly_BerkeleyEarth.nc'\n",
    "\n",
    "# download and save data\n",
    "urlretrieve(url, filename)"
   ]
  },
  {
   "cell_type": "code",
   "execution_count": 5,
   "metadata": {},
   "outputs": [
    {
     "data": {
      "text/plain": [
       "('C://Users/kerrie.WIN/Documents/code/MSU_py_training/learn_by_doing/ENSO/precip_monthly_GPCC_NOAA.nc',\n",
       " <http.client.HTTPMessage at 0x1e069362e40>)"
      ]
     },
     "execution_count": 5,
     "metadata": {},
     "output_type": "execute_result"
    }
   ],
   "source": [
    "# NOAA GPCC precipitation global gridded data\n",
    "\n",
    "# url to the data\n",
    "# url=r'https://psl.noaa.gov/thredds/fileServer/Datasets/gpcc/full_v7/precip.mon.total.1x1.v7.nc'\n",
    "# url=r'https://psl.noaa.gov/thredds/fileServer/Datasets/gpcc/full_v7/precip.mon.total.v7.nc'\n",
    "# url='https://psl.noaa.gov/thredds/fileServer/Datasets/gpcc/monitor/precip.monitor.mon.total.1x1.v2020.nc'\n",
    "url=r'https://psl.noaa.gov/thredds/fileServer/Datasets/precl/1.0deg/precip.mon.mean.1x1.nc'\n",
    "\n",
    "# file name to save the data to\n",
    "filename=data_dir+'precip_monthly_GPCC_NOAA.nc'\n",
    "\n",
    "# download and save data\n",
    "urlretrieve(url, filename)"
   ]
  },
  {
   "cell_type": "code",
   "execution_count": null,
   "metadata": {},
   "outputs": [],
   "source": [
    "# UKMO HadISST1 sea surface temperature global gridded data\n",
    "\n",
    "# url to the data\n",
    "url='https://www.metoffice.gov.uk/hadobs/hadisst/data/HadISST_sst.nc.gz'\n",
    "\n",
    "# file name to save the data to\n",
    "filename=data_dir+'sst_monthly_HadISST1_UKMO.nc.gz'\n",
    "\n",
    "# download and save data\n",
    "urlretrieve(url, filename)"
   ]
  },
  {
   "cell_type": "code",
   "execution_count": null,
   "metadata": {},
   "outputs": [],
   "source": [
    "# unzip file\n",
    "print('unpacking zipped file...')\n",
    "with gzip.open(filename, 'rb') as f_in:\n",
    "    with open(filename[:-3], 'wb') as f_out:\n",
    "        shutil.copyfileobj(f_in, f_out)\n",
    "\n",
    "# delete zip file\n",
    "print('removing gz file...')\n",
    "os.remove(filename)\n",
    "\n",
    "print('finished')"
   ]
  },
  {
   "cell_type": "code",
   "execution_count": null,
   "metadata": {},
   "outputs": [],
   "source": [
    "# this is CONUS only\n",
    "# # CPC\n",
    "\n",
    "# # url to the data\n",
    "# url='https://berkeley-earth-temperature.s3.us-west-1.amazonaws.com/Global/Gridded/Complete_TAVG_LatLong1.nc'\n",
    "\n",
    "# # file name to save the data to\n",
    "# filename=work_dir+'tavg_monthly_BerkeleyEarth.nc'\n",
    "\n",
    "# # download and save data\n",
    "# urlretrieve(url, filename)\n",
    "\n",
    "# https://downloads.psl.noaa.gov/Datasets/cpc_us_precip/precip.V1.0.mon.mean.nc"
   ]
  }
 ],
 "metadata": {
  "kernelspec": {
   "display_name": "Python 3.12.0 ('tutorials_simple')",
   "language": "python",
   "name": "python3"
  },
  "language_info": {
   "codemirror_mode": {
    "name": "ipython",
    "version": 3
   },
   "file_extension": ".py",
   "mimetype": "text/x-python",
   "name": "python",
   "nbconvert_exporter": "python",
   "pygments_lexer": "ipython3",
   "version": "3.12.0"
  },
  "orig_nbformat": 4,
  "vscode": {
   "interpreter": {
    "hash": "950e47cd08f832c9617b73ded02e4c98267231f17a9c297cedef6a192fb711ad"
   }
  }
 },
 "nbformat": 4,
 "nbformat_minor": 2
}
