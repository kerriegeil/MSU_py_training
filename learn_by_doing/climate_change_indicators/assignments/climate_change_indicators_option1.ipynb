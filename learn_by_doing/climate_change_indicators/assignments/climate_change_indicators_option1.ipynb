{
 "cells": [
  {
   "cell_type": "markdown",
   "id": "80e493ca-39fb-47df-830a-fc9d1425cc06",
   "metadata": {},
   "source": [
    "# Python Learn by Doing: Climate Change Indicators, Your Turn! Option 1 Answer Key\n",
    "\n",
    "**Developed By:** Dr. Kerrie Geil, Mississippi State University\n",
    "\n",
    "**Original Development Date:** May 2024\n",
    "\n",
    "**Package Requirements:** xarray, netcdf4, numpy, pandas, scipy, matplotlib, jupyter\n",
    "\n",
    "**Links:** **[OSF project link](https://osf.io/zhpd5/)**, [link to this notebook on github](https://github.com/kerriegeil/MSU_py_training/blob/main/learn_by_doing/climate_change_indicators/assignments/climate_change_indicators_option1.ipynb)\n",
    "\n",
    "---\n",
    "**Assignment:**\n",
    "\n",
    "Calculate the monthly mean daily temperature range (DTR) at Starkville, determine whether there is a statistically significant trend, and create a figure showing the DTR timeseries, linear trend, and p value. Compare your results to climdex.org, looking at the trend in DTR over CONUS for similar data years (1977-2021) and also for data years 1922-2021 from the Berkeley Earth Surface Temperature dataset\n",
    "\n",
    "&emsp;Hints:\n",
    "- Use daily tmax and tmin data\n",
    "- Apply the relevant steps from the data cleaning section (drop leap days)\n",
    "- Calculate the daily temperature range as tmax-tmin\n",
    "- For each month, find the mean daily temperature range\n",
    "- Determine if there is a statistically significant trend in DTR at the 90% confidence level\n",
    "- Plot the DTR timeseries with its linear trend line. Your plot should have x axis tick labels as years, a y axis label that describes the units, and a title that includes the p value.\n",
    "- Go to **[climdex.org](https://www.climdex.org/access/)** and get the png of DTR trend over CONUS using data years 1977-2021 from the BEST dataset\n",
    "- Go to **[climdex.org](https://www.climdex.org/access/)** and get the png of DTR trend over CONUS using data years 1922-2021 from the BEST dataset"
   ]
  },
  {
   "cell_type": "markdown",
   "id": "b5015e21-141f-4357-af78-d2f62f1e2d5a",
   "metadata": {},
   "source": [
    "# Import packages and define workspace"
   ]
  },
  {
   "cell_type": "code",
   "execution_count": null,
   "id": "efa453c0-4b9b-45e4-a762-07be5e66fda6",
   "metadata": {},
   "outputs": [],
   "source": [
    "import xarray as xr\n",
    "import numpy as np\n",
    "import pandas as pd\n",
    "import scipy.stats as ss\n",
    "import matplotlib.pyplot as plt"
   ]
  },
  {
   "cell_type": "code",
   "execution_count": null,
   "id": "f527721e-0946-4d34-8779-9dc76e3ddb4e",
   "metadata": {},
   "outputs": [],
   "source": [
    "# filenames \n",
    "tmax_f='data/tmax_AgERA5_Starkville_Daily_1979-2023.nc'\n",
    "tmin_f='data/tmin_AgERA5_Starkville_Daily_1979-2023.nc'"
   ]
  },
  {
   "cell_type": "markdown",
   "id": "10b02ebe-4965-4ae8-a2b1-b37dc2e7021c",
   "metadata": {},
   "source": [
    "# Data Cleaning\n",
    "\n",
    "Normally, we would run through the data cleaning suggested by ETCCDI here. However, we've already done the data cleaning steps in climate_change_indicators_AgERA5.ipynb and found that, using the Starkville data, the leap days step was the only step that changed our data arrays. We'll repeat only that step here."
   ]
  },
  {
   "cell_type": "code",
   "execution_count": null,
   "id": "4cd80f93-e94d-497c-8eb3-432b7c1f536e",
   "metadata": {},
   "outputs": [],
   "source": [
    "tn = xr.open_dataarray(tmin_f)\n",
    "tn = tn.squeeze()\n",
    "\n",
    "tx = xr.open_dataarray(tmax_f)\n",
    "tx = tx.squeeze()\n",
    "\n",
    "tn"
   ]
  },
  {
   "cell_type": "code",
   "execution_count": null,
   "id": "d73eb6c8-a511-4065-b504-4f37cc72343e",
   "metadata": {},
   "outputs": [],
   "source": [
    "#### leap days (i.e Feb 29th)\n",
    "# we'll drop all leap days from the data arrays\n",
    "\n",
    "# first let's double check that the time dimension is the same for all of our data arrays\n",
    "assert list(tn.time.data)==list(tx.time.data), 'tn.time and tx.time are not equal'\n",
    "\n",
    "# create a boolean array of dim 'time' where leapdays are True and all other days are False\n",
    "isleapday=xr.where((tn.time.dt.day==29) & (tn.time.dt.month==2),True,False)\n",
    "\n",
    "# drop leapdays\n",
    "tx=tx.where(~isleapday,drop=True)\n",
    "tn=tn.where(~isleapday,drop=True)\n",
    "\n",
    "len(tx), len(tn)"
   ]
  },
  {
   "cell_type": "markdown",
   "id": "840dc3f0-4b9a-4f7c-9324-32b0586c9c93",
   "metadata": {},
   "source": [
    "#  Climate change indicator: monthly mean daily temperature range (DTR)"
   ]
  },
  {
   "cell_type": "code",
   "execution_count": null,
   "id": "4ba8c8d2-e75d-4816-be24-3bad0312e971",
   "metadata": {},
   "outputs": [],
   "source": [
    "dtr_daily=tx-tn\n",
    "dtr_daily"
   ]
  },
  {
   "cell_type": "code",
   "execution_count": null,
   "id": "df222a3a-39e2-42ca-ade5-25f41d1d57b5",
   "metadata": {},
   "outputs": [],
   "source": [
    "# create a label for every month in the timeseries\n",
    "month_groups=pd.MultiIndex.from_arrays([tn.time['time.year'].data,tn.time['time.month'].data])\n",
    "\n",
    "# add month_groups as a new coordinate\n",
    "dtr_daily.coords['month_groups']=('time',month_groups) \n",
    "\n",
    "dtr_daily"
   ]
  },
  {
   "cell_type": "code",
   "execution_count": null,
   "id": "30c8a9c6-5acd-4c51-9db5-b9fe90c253f4",
   "metadata": {},
   "outputs": [],
   "source": [
    "# calculate mean daily temperature range for each month\n",
    "DTR=dtr_daily.groupby('month_groups').mean()\n",
    "\n",
    "# change the month_groups dim name and coordinate labels to datetimes\n",
    "time_months=pd.date_range(tx.time.data[0],tx.time.data[-1],freq='MS') # create datetimes\n",
    "DTR=DTR.rename({'month_groups':'time'})  # renaming a coordinate and dimension\n",
    "DTR=DTR.drop_vars(['time_level_0','time_level_1']) # deleting leftovers from MultiIndex that we don't need\n",
    "DTR.coords['time']=('time',time_months)  # assign datetimes as the coordinate values/labels \n",
    "\n",
    "DTR"
   ]
  },
  {
   "cell_type": "code",
   "execution_count": null,
   "id": "49b7bb52-5840-4236-8f40-0b692b670585",
   "metadata": {},
   "outputs": [],
   "source": [
    "# plot\n",
    "fig=plt.figure(figsize=(15,2))\n",
    "DTR.plot()\n",
    "plt.title('monthly mean daily temperature range (DTR)')\n",
    "plt.ylabel('degrees C')\n",
    "plt.show()"
   ]
  },
  {
   "cell_type": "markdown",
   "id": "bffdb5d0-2fe2-4729-b8db-538a13e93031",
   "metadata": {},
   "source": [
    "# Trend analysis"
   ]
  },
  {
   "cell_type": "code",
   "execution_count": null,
   "id": "83a1bb12-30a2-4e67-9345-c5e1499e5bf8",
   "metadata": {},
   "outputs": [],
   "source": [
    "# linear regression and p value\n",
    "\n",
    "# an integer index as a new coordinate\n",
    "DTR.coords['index']=('time',range(len(DTR.time)))\n",
    "\n",
    "# linear regression\n",
    "reg_info=ss.linregress(DTR.index,DTR)\n",
    "\n",
    "# convert trend units\n",
    "trend=reg_info.slope*12*100 # C/month --> C/century\n",
    "\n",
    "# create regression line for plotting\n",
    "regline=reg_info.slope*DTR.index +reg_info.intercept\n",
    "\n",
    "reg_info"
   ]
  },
  {
   "cell_type": "code",
   "execution_count": null,
   "id": "5dcefc20-3873-4b5e-8a0c-234a80fdb04a",
   "metadata": {},
   "outputs": [],
   "source": [
    "# plot the linear regression over the timeseries TNx\n",
    "fig=plt.figure(figsize=(15,2))\n",
    "\n",
    "DTR.plot()\n",
    "regline.plot(linestyle='--')\n",
    "\n",
    "plt.axhline(y=DTR.mean(),color='grey',linestyle='dashed',linewidth=0.5)\n",
    "plt.tick_params(labelright=True, right=True)\n",
    "plt.ylabel('degrees C')\n",
    "plt.title(f'monthly mean daily temperature range (DTR) with trend {trend:.2f} C/century (p={reg_info.pvalue:.3f})')\n",
    "\n",
    "# plt.savefig('figs/cci_option1_figure.png')\n",
    "plt.show()"
   ]
  },
  {
   "attachments": {},
   "cell_type": "markdown",
   "id": "df43a1a7-9936-43d5-bb8d-abd18564fc2c",
   "metadata": {},
   "source": [
    "# Conclusions\n",
    "\n",
    "With a p value of 0.724, there is no statistically significant trend in Starkville DTR\n",
    "\n",
    "\n",
    "We find a similar result at Starkville from climdex.org, using BEST data over the years 1977-2021 to calculate DTR trend. However, there do appear to be significant trends of increasing DTR across much of the southwest US and Pacific northwest US. \n"
   ]
  },
  {
   "cell_type": "markdown",
   "id": "d11c2e1f",
   "metadata": {},
   "source": [
    "<img src=\"../figs/BEST (Berkeley Earth Surface Temperature) 1880-2021_DTR_ANN_TrendMap_1977-2021_24to51_-125to-65.png\"/>"
   ]
  },
  {
   "attachments": {},
   "cell_type": "markdown",
   "id": "6a7a7726-7e84-4d91-be22-6b2674d10af2",
   "metadata": {},
   "source": [
    "<br>\n",
    "<br>\n",
    "\n",
    "If the trends above are robust long term trends, then we should see a similar result using more data years. If we use 100 total data years, do we see the same pattern of trends and similar areas of statistical significance over CONUS? \n",
    "\n"
   ]
  },
  {
   "attachments": {},
   "cell_type": "markdown",
   "id": "cef40a8d-1f0b-4c0c-b7e0-4ce32e513a30",
   "metadata": {},
   "source": [
    "<img src=\"../figs/longterm/BEST (Berkeley Earth Surface Temperature) 1880-2021_DTR_ANN_TrendMap_1922-2021_24to51_-125to-65.png\"/>"
   ]
  },
  {
   "cell_type": "markdown",
   "id": "b70b012c-bb43-4d92-b612-186599601a51",
   "metadata": {},
   "source": [
    "The answer is no, not really (with the exception of the baja peninsula)!\n",
    "\n",
    "In climate science, 45 years of data is not considered to be a lot of data, especially for trend analysis. If there are more years of reliable data available, it's usually better to use more years in your trend analysis. We can consider the result using 100 years of data more robust and representative of long term change than the result using only 45 years of data.\n",
    "\n",
    "One last point to consider is the following... the BEST gridded temperature dataset provides data values all the way back to 1880 globally. We could have looked at the trend calculated on all 142 years of available data. BUT, you should take into account that data collected that long ago is MUCH more sparse and potentially less reliable than data collected in more recent years. So while 1880-1921 data years do exist in the BEST dataset, it's likely that there was much more interpolation of the data observations when gridding them.  "
   ]
  },
  {
   "cell_type": "code",
   "execution_count": null,
   "id": "0ad5145b-5823-4311-88eb-b8de3a2b8da5",
   "metadata": {},
   "outputs": [],
   "source": []
  }
 ],
 "metadata": {
  "kernelspec": {
   "display_name": "Python 3 (ipykernel)",
   "language": "python",
   "name": "python3"
  },
  "language_info": {
   "codemirror_mode": {
    "name": "ipython",
    "version": 3
   },
   "file_extension": ".py",
   "mimetype": "text/x-python",
   "name": "python",
   "nbconvert_exporter": "python",
   "pygments_lexer": "ipython3",
   "version": "3.11.7"
  }
 },
 "nbformat": 4,
 "nbformat_minor": 5
}
