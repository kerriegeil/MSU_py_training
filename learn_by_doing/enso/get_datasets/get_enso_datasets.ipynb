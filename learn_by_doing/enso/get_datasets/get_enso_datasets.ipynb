{
 "cells": [
  {
   "cell_type": "code",
   "execution_count": null,
   "metadata": {},
   "outputs": [],
   "source": [
    "from urllib.request import urlretrieve"
   ]
  },
  {
   "cell_type": "code",
   "execution_count": null,
   "metadata": {},
   "outputs": [],
   "source": [
    "# edit to whereever you want to save the data files\n",
    "data_dir = r'../'"
   ]
  },
  {
   "cell_type": "code",
   "execution_count": null,
   "metadata": {},
   "outputs": [],
   "source": [
    "# NOAA Nino 3.4 Index data\n",
    "\n",
    "# url to the data\n",
    "url='https://psl.noaa.gov/gcos_wgsp/Timeseries/Data/nino34.long.anom.data'\n",
    "\n",
    "# file name to save the data to\n",
    "filename=data_dir+'nino34_anomalies_monthly_NOAA.txt'\n",
    "\n",
    "# download and save data\n",
    "urlretrieve(url, filename)"
   ]
  },
  {
   "cell_type": "code",
   "execution_count": null,
   "metadata": {},
   "outputs": [],
   "source": [
    "# Berkeley Earth tavg global gridded data\n",
    "\n",
    "# url to the data\n",
    "url='https://berkeley-earth-temperature.s3.us-west-1.amazonaws.com/Global/Gridded/Complete_TAVG_LatLong1.nc'\n",
    "\n",
    "# file name to save the data to\n",
    "filename=data_dir+'tavg_monthly_BerkeleyEarth.nc'\n",
    "\n",
    "# download and save data\n",
    "urlretrieve(url, filename)"
   ]
  },
  {
   "cell_type": "code",
   "execution_count": null,
   "metadata": {},
   "outputs": [],
   "source": [
    "# NOAA PREC/L precipitation global gridded data\n",
    "\n",
    "# url to the data\n",
    "url=r'https://psl.noaa.gov/thredds/fileServer/Datasets/precl/1.0deg/precip.mon.mean.1x1.nc'\n",
    "\n",
    "# file name to save the data to\n",
    "filename=data_dir+'precip_monthly_PRECL_NOAA.nc'\n",
    "\n",
    "# download and save data\n",
    "urlretrieve(url, filename)"
   ]
  },
  {
   "cell_type": "code",
   "execution_count": null,
   "metadata": {},
   "outputs": [],
   "source": [
    "# JMA COBE2 sea surface temperature global gridded data\n",
    "url='https://psl.noaa.gov/thredds/fileServer/Datasets/COBE2/sst.mon.mean.nc'\n",
    "\n",
    "# file name to save the data to\n",
    "filename=data_dir+'sst_monthly_COBE2_JMA.nc'\n",
    "\n",
    "# download and save data\n",
    "urlretrieve(url, filename)"
   ]
  }
 ],
 "metadata": {
  "kernelspec": {
   "display_name": "Python 3 (ipykernel)",
   "language": "python",
   "name": "python3"
  },
  "language_info": {
   "codemirror_mode": {
    "name": "ipython",
    "version": 3
   },
   "file_extension": ".py",
   "mimetype": "text/x-python",
   "name": "python",
   "nbconvert_exporter": "python",
   "pygments_lexer": "ipython3",
   "version": "3.11.7"
  },
  "vscode": {
   "interpreter": {
    "hash": "78ab2d50a2133bd9963a4e0ed82a6ab96066a8de036f78eb77258e6d5c22f3d5"
   }
  }
 },
 "nbformat": 4,
 "nbformat_minor": 4
}
